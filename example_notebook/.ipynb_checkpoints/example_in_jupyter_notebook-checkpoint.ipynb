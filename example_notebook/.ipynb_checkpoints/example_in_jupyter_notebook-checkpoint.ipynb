{
 "cells": [
  {
   "cell_type": "code",
   "execution_count": null,
   "metadata": {},
   "outputs": [],
   "source": [
    "1. Training DM"
   ]
  },
  {
   "cell_type": "code",
   "execution_count": null,
   "metadata": {},
   "outputs": [],
   "source": []
  },
  {
   "cell_type": "markdown",
   "metadata": {},
   "source": [
    "# below is the predicting for I_test.csv based on the training model"
   ]
  },
  {
   "cell_type": "code",
   "execution_count": 28,
   "metadata": {},
   "outputs": [
    {
     "name": "stdout",
     "output_type": "stream",
     "text": [
      "I_train_moe206_rand\n",
      "I_test.csv\n",
      "Loading training args\n",
      "Loading data\n",
      "Validating SMILES\n",
      "Test size = 195\n",
      "Predicting with an ensemble of 1 models\n",
      "Loading pretrained parameter \"encoder.encoder.cached_zero_vector\".\n",
      "Loading pretrained parameter \"encoder.encoder.W_i.weight\".\n",
      "Loading pretrained parameter \"encoder.encoder.W_h.weight\".\n",
      "Loading pretrained parameter \"encoder.encoder.W_o.weight\".\n",
      "Loading pretrained parameter \"encoder.encoder.W_o.bias\".\n",
      "Loading pretrained parameter \"ffn.1.weight\".\n",
      "Loading pretrained parameter \"ffn.1.bias\".\n",
      "Loading pretrained parameter \"ffn.4.weight\".\n",
      "Loading pretrained parameter \"ffn.4.bias\".\n",
      "Moving model to cuda\n",
      "Saving predictions to P_I_test_moe2060.csv\n",
      "cols =  [1]\n",
      "xx_col, label_col, value_col =  1 class class\n",
      "header= ['roc', 'prc', 'Recall', 'Precision', 'f1', 'BA', 'accuracy', 'TN', 'FP', 'FN', 'TP', 'SP', 'SE', 'NPV', 'MCC', 'cohen_kappa']\n"
     ]
    },
    {
     "name": "stderr",
     "output_type": "stream",
     "text": [
      "\r",
      "  0%|          | 0/195 [00:00<?, ?it/s][19:48:11] WARNING: not removing hydrogen atom without neighbors\n",
      "[19:48:11] WARNING: not removing hydrogen atom without neighbors\n",
      "\r",
      "100%|██████████| 195/195 [00:00<00:00, 3832.71it/s]\n",
      "\r",
      "  0%|          | 0/1 [00:00<?, ?it/s]\n",
      "\r",
      "  0%|          | 0/4 [00:00<?, ?it/s]\u001b[A\n",
      "\r",
      " 25%|██▌       | 1/4 [00:00<00:00,  6.10it/s]\u001b[A\n",
      "\r",
      " 50%|█████     | 2/4 [00:00<00:00,  6.86it/s]\u001b[A\n",
      "\r",
      " 75%|███████▌  | 3/4 [00:00<00:00,  7.37it/s]\u001b[A[19:48:16] WARNING: not removing hydrogen atom without neighbors\n",
      "[19:48:16] WARNING: not removing hydrogen atom without neighbors\n",
      "\r",
      "100%|██████████| 4/4 [00:00<00:00,  8.87it/s]\n",
      "\r",
      "100%|██████████| 1/1 [00:05<00:00,  5.14s/it]\r",
      "100%|██████████| 1/1 [00:05<00:00,  5.14s/it]\n"
     ]
    }
   ],
   "source": [
    "%%bash\n",
    "check_fold='I_train_moe206_rand'\n",
    "echo $check_fold\n",
    "test_path='I_test.csv'\n",
    "echo $test_path\n",
    "features_path='I_test_moe206.csv'\n",
    "preds_base='P_I_test_moe206'\n",
    "i=0\n",
    "python ../chemprop/predict.py --checkpoint_path ${check_fold}/fold_${i}/model_0/model.pt --test_path $test_path --features_path $features_path --preds_path ${preds_base}${i}.csv\n",
    "python ../calc_metric.py -t ${test_path} -p ${preds_base}${i}.csv -c 1"
   ]
  },
  {
   "cell_type": "code",
   "execution_count": 29,
   "metadata": {},
   "outputs": [
    {
     "name": "stdout",
     "output_type": "stream",
     "text": [
      "I_train_moe206_rand\n",
      "I_test.csv\n",
      "Loading training args\n",
      "Loading data\n",
      "Validating SMILES\n",
      "Test size = 195\n",
      "Predicting with an ensemble of 1 models\n",
      "Loading pretrained parameter \"encoder.encoder.cached_zero_vector\".\n",
      "Loading pretrained parameter \"encoder.encoder.W_i.weight\".\n",
      "Loading pretrained parameter \"encoder.encoder.W_h.weight\".\n",
      "Loading pretrained parameter \"encoder.encoder.W_o.weight\".\n",
      "Loading pretrained parameter \"encoder.encoder.W_o.bias\".\n",
      "Loading pretrained parameter \"ffn.1.weight\".\n",
      "Loading pretrained parameter \"ffn.1.bias\".\n",
      "Loading pretrained parameter \"ffn.4.weight\".\n",
      "Loading pretrained parameter \"ffn.4.bias\".\n",
      "Moving model to cuda\n",
      "Saving predictions to P_I_test_moe2061.csv\n",
      "cols =  [1]\n",
      "xx_col, label_col, value_col =  1 class class\n",
      "header= ['roc', 'prc', 'Recall', 'Precision', 'f1', 'BA', 'accuracy', 'TN', 'FP', 'FN', 'TP', 'SP', 'SE', 'NPV', 'MCC', 'cohen_kappa']\n"
     ]
    },
    {
     "name": "stderr",
     "output_type": "stream",
     "text": [
      "\r",
      "  0%|          | 0/195 [00:00<?, ?it/s][19:48:41] WARNING: not removing hydrogen atom without neighbors\n",
      "[19:48:41] WARNING: not removing hydrogen atom without neighbors\n",
      "\r",
      "100%|██████████| 195/195 [00:00<00:00, 3870.64it/s]\n",
      "\r",
      "  0%|          | 0/1 [00:00<?, ?it/s]\n",
      "\r",
      "  0%|          | 0/4 [00:00<?, ?it/s]\u001b[A\n",
      "\r",
      " 25%|██▌       | 1/4 [00:00<00:00,  7.65it/s]\u001b[A\n",
      "\r",
      " 75%|███████▌  | 3/4 [00:00<00:00,  8.23it/s]\u001b[A[19:48:45] WARNING: not removing hydrogen atom without neighbors\n",
      "[19:48:45] WARNING: not removing hydrogen atom without neighbors\n",
      "\r",
      "100%|██████████| 4/4 [00:00<00:00,  9.86it/s]\n",
      "\r",
      "100%|██████████| 1/1 [00:04<00:00,  4.33s/it]\r",
      "100%|██████████| 1/1 [00:04<00:00,  4.33s/it]\n"
     ]
    }
   ],
   "source": [
    "%%bash\n",
    "check_fold='I_train_moe206_rand'\n",
    "echo $check_fold\n",
    "test_path='I_test.csv'\n",
    "echo $test_path\n",
    "features_path='I_test_moe206.csv'\n",
    "preds_base='P_I_test_moe206'\n",
    "i=1\n",
    "python ../chemprop/predict.py --checkpoint_path ${check_fold}/fold_${i}/model_0/model.pt --test_path $test_path --features_path $features_path --preds_path ${preds_base}${i}.csv\n",
    "python ../calc_metric.py -t ${test_path} -p ${preds_base}${i}.csv -c 1"
   ]
  },
  {
   "cell_type": "code",
   "execution_count": null,
   "metadata": {},
   "outputs": [],
   "source": []
  }
 ],
 "metadata": {
  "kernelspec": {
   "display_name": "Python 3",
   "language": "python",
   "name": "python3"
  },
  "language_info": {
   "codemirror_mode": {
    "name": "ipython",
    "version": 3
   },
   "file_extension": ".py",
   "mimetype": "text/x-python",
   "name": "python",
   "nbconvert_exporter": "python",
   "pygments_lexer": "ipython3",
   "version": "3.7.6"
  }
 },
 "nbformat": 4,
 "nbformat_minor": 4
}
