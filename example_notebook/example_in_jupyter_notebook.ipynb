{
 "cells": [
  {
   "cell_type": "markdown",
   "metadata": {},
   "source": [
    "# 1. Training a DMPNN model on I_train.csv along with moe206 descriptors(I_train_moe206.csv)"
   ]
  },
  {
   "cell_type": "code",
   "execution_count": 1,
   "metadata": {},
   "outputs": [
    {
     "name": "stdout",
     "output_type": "stream",
     "text": [
      "Process is terminated.\n"
     ]
    }
   ],
   "source": [
    "%%bash\n",
    "python ../chemprop/train.py --gpu 0 --data_path I_train.csv \\\n",
    "--dataset_type classification --save_dir I_train_moe206_rand_test \\\n",
    "--epochs 50 --split_type random --features_path I_train_moe206.csv \\\n",
    "--num_folds 5 --quiet #--log_frequency 500"
   ]
  },
  {
   "cell_type": "markdown",
   "metadata": {},
   "source": [
    "# 2. predicting for I_test.csv based on the training model"
   ]
  },
  {
   "cell_type": "code",
   "execution_count": 2,
   "metadata": {},
   "outputs": [
    {
     "name": "stdout",
     "output_type": "stream",
     "text": [
      "I_train_moe206_rand\n",
      "I_test.csv\n",
      "Loading training args\n",
      "Loading data\n",
      "Validating SMILES\n",
      "Test size = 195\n",
      "Predicting with an ensemble of 1 models\n",
      "Loading pretrained parameter \"encoder.encoder.cached_zero_vector\".\n",
      "Loading pretrained parameter \"encoder.encoder.W_i.weight\".\n",
      "Loading pretrained parameter \"encoder.encoder.W_h.weight\".\n",
      "Loading pretrained parameter \"encoder.encoder.W_o.weight\".\n",
      "Loading pretrained parameter \"encoder.encoder.W_o.bias\".\n",
      "Loading pretrained parameter \"ffn.1.weight\".\n",
      "Loading pretrained parameter \"ffn.1.bias\".\n",
      "Loading pretrained parameter \"ffn.4.weight\".\n",
      "Loading pretrained parameter \"ffn.4.bias\".\n",
      "Moving model to cuda\n",
      "Saving predictions to P_I_test_moe2060.csv\n"
     ]
    },
    {
     "name": "stderr",
     "output_type": "stream",
     "text": [
      "\r",
      "  0%|          | 0/195 [00:00<?, ?it/s][10:05:18] WARNING: not removing hydrogen atom without neighbors\n",
      "[10:05:18] WARNING: not removing hydrogen atom without neighbors\n",
      "\r",
      "100%|██████████| 195/195 [00:00<00:00, 3786.33it/s]\n",
      "\r",
      "  0%|          | 0/1 [00:00<?, ?it/s]\n",
      "\r",
      "  0%|          | 0/4 [00:00<?, ?it/s]\u001b[A\n",
      "\r",
      " 25%|██▌       | 1/4 [00:00<00:00,  7.56it/s]\u001b[A\n",
      "\r",
      " 75%|███████▌  | 3/4 [00:00<00:00,  8.15it/s]\u001b[A[10:05:22] WARNING: not removing hydrogen atom without neighbors\n",
      "[10:05:22] WARNING: not removing hydrogen atom without neighbors\n",
      "\r",
      "100%|██████████| 4/4 [00:00<00:00,  9.96it/s]\n",
      "\r",
      "100%|██████████| 1/1 [00:04<00:00,  4.45s/it]\r",
      "100%|██████████| 1/1 [00:04<00:00,  4.45s/it]\n"
     ]
    }
   ],
   "source": [
    "%%bash\n",
    "check_fold='I_train_moe206_rand'\n",
    "echo $check_fold\n",
    "test_path='I_test.csv'\n",
    "echo $test_path\n",
    "features_path='I_test_moe206.csv'\n",
    "preds_base='P_I_test_moe206'\n",
    "i=0\n",
    "python ../chemprop/predict.py \\\n",
    "--checkpoint_path ${check_fold}/fold_${i}/model_0/model.pt \\\n",
    "--test_path $test_path --features_path $features_path \\\n",
    "--preds_path ${preds_base}${i}.csv"
   ]
  },
  {
   "cell_type": "markdown",
   "metadata": {},
   "source": [
    "above is for fold_0; for other cross fold prediction, simple change i to 1,2,3,4"
   ]
  },
  {
   "cell_type": "code",
   "execution_count": 3,
   "metadata": {},
   "outputs": [
    {
     "name": "stdout",
     "output_type": "stream",
     "text": [
      "I_train_moe206_rand\n",
      "I_test.csv\n",
      "Loading training args\n",
      "Loading data\n",
      "Validating SMILES\n",
      "Test size = 195\n",
      "Predicting with an ensemble of 1 models\n",
      "Loading pretrained parameter \"encoder.encoder.cached_zero_vector\".\n",
      "Loading pretrained parameter \"encoder.encoder.W_i.weight\".\n",
      "Loading pretrained parameter \"encoder.encoder.W_h.weight\".\n",
      "Loading pretrained parameter \"encoder.encoder.W_o.weight\".\n",
      "Loading pretrained parameter \"encoder.encoder.W_o.bias\".\n",
      "Loading pretrained parameter \"ffn.1.weight\".\n",
      "Loading pretrained parameter \"ffn.1.bias\".\n",
      "Loading pretrained parameter \"ffn.4.weight\".\n",
      "Loading pretrained parameter \"ffn.4.bias\".\n",
      "Moving model to cuda\n",
      "Saving predictions to P_I_test_moe2061.csv\n"
     ]
    },
    {
     "name": "stderr",
     "output_type": "stream",
     "text": [
      "\r",
      "  0%|          | 0/195 [00:00<?, ?it/s][10:05:27] WARNING: not removing hydrogen atom without neighbors\n",
      "[10:05:27] WARNING: not removing hydrogen atom without neighbors\n",
      "\r",
      "100%|██████████| 195/195 [00:00<00:00, 3912.58it/s]\n",
      "\r",
      "  0%|          | 0/1 [00:00<?, ?it/s]\n",
      "\r",
      "  0%|          | 0/4 [00:00<?, ?it/s]\u001b[A\n",
      "\r",
      " 25%|██▌       | 1/4 [00:00<00:00,  7.21it/s]\u001b[A\n",
      "\r",
      " 75%|███████▌  | 3/4 [00:00<00:00,  7.88it/s]\u001b[A[10:05:32] WARNING: not removing hydrogen atom without neighbors\n",
      "[10:05:32] WARNING: not removing hydrogen atom without neighbors\n",
      "\r",
      "100%|██████████| 4/4 [00:00<00:00,  9.84it/s]\n",
      "\r",
      "100%|██████████| 1/1 [00:04<00:00,  4.49s/it]\r",
      "100%|██████████| 1/1 [00:04<00:00,  4.49s/it]\n"
     ]
    }
   ],
   "source": [
    "%%bash\n",
    "check_fold='I_train_moe206_rand'\n",
    "echo $check_fold\n",
    "test_path='I_test.csv'\n",
    "echo $test_path\n",
    "features_path='I_test_moe206.csv'\n",
    "preds_base='P_I_test_moe206'\n",
    "i=1\n",
    "python ../chemprop/predict.py \\\n",
    "--checkpoint_path ${check_fold}/fold_${i}/model_0/model.pt \\\n",
    "--test_path $test_path --features_path $features_path \\\n",
    "--preds_path ${preds_base}${i}.csv"
   ]
  },
  {
   "cell_type": "markdown",
   "metadata": {},
   "source": [
    "# 3. evaluating metrics"
   ]
  },
  {
   "cell_type": "code",
   "execution_count": 4,
   "metadata": {},
   "outputs": [
    {
     "name": "stdout",
     "output_type": "stream",
     "text": [
      "I_train_moe206_rand\n",
      "I_test.csv\n",
      "cols =  [1]\n",
      "xx_col, label_col, value_col =  1 class class\n",
      "header= ['roc', 'prc', 'Recall', 'Precision', 'f1', 'BA', 'accuracy', 'TN', 'FP', 'FN', 'TP', 'SP', 'SE', 'NPV', 'MCC', 'cohen_kappa']\n"
     ]
    }
   ],
   "source": [
    "%%bash\n",
    "check_fold='I_train_moe206_rand'\n",
    "echo $check_fold\n",
    "test_path='I_test.csv'\n",
    "echo $test_path\n",
    "features_path='I_test_moe206.csv'\n",
    "preds_base='P_I_test_moe206'\n",
    "i=0\n",
    "python ../calc_metric.py -t ${test_path} -p ${preds_base}${i}.csv -c 1"
   ]
  },
  {
   "cell_type": "markdown",
   "metadata": {},
   "source": [
    "# 4. Training a DMPNN model on I_train.csv without descriptors"
   ]
  },
  {
   "cell_type": "code",
   "execution_count": 5,
   "metadata": {},
   "outputs": [
    {
     "name": "stdout",
     "output_type": "stream",
     "text": [
      "Process is terminated.\n"
     ]
    }
   ],
   "source": [
    "%%bash\n",
    "python ../chemprop/train.py --gpu 0 --data_path I_train.csv \\\n",
    "--dataset_type classification --save_dir I_train_rand_test \\\n",
    "--epochs 50 --split_type random \\\n",
    "--num_folds 5 #--log_frequency 500"
   ]
  },
  {
   "cell_type": "markdown",
   "metadata": {},
   "source": [
    "the prediction and evaluation is similar as above"
   ]
  },
  {
   "cell_type": "code",
   "execution_count": null,
   "metadata": {},
   "outputs": [],
   "source": []
  }
 ],
 "metadata": {
  "kernelspec": {
   "display_name": "Python 3",
   "language": "python",
   "name": "python3"
  },
  "language_info": {
   "codemirror_mode": {
    "name": "ipython",
    "version": 3
   },
   "file_extension": ".py",
   "mimetype": "text/x-python",
   "name": "python",
   "nbconvert_exporter": "python",
   "pygments_lexer": "ipython3",
   "version": "3.7.6"
  }
 },
 "nbformat": 4,
 "nbformat_minor": 4
}
